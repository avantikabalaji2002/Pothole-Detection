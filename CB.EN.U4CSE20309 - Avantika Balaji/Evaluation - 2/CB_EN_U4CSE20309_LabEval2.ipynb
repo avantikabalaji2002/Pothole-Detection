{
  "nbformat": 4,
  "nbformat_minor": 0,
  "metadata": {
    "colab": {
      "provenance": []
    },
    "kernelspec": {
      "name": "python3",
      "display_name": "Python 3"
    },
    "language_info": {
      "name": "python"
    }
  },
  "cells": [
    {
      "cell_type": "markdown",
      "source": [
        "###Laplacian, Sobel Filtering Technique"
      ],
      "metadata": {
        "id": "t8i5tulz2KdQ"
      }
    },
    {
      "cell_type": "code",
      "execution_count": null,
      "metadata": {
        "id": "gFbFoGUC1x-g"
      },
      "outputs": [],
      "source": [
        "laplacian = cv2.Laplacian(sharpened_h,cv2.CV_64F)\n",
        "sobelx = cv2.Sobel(img,cv2.CV_64F,1,0,ksize=21)\n",
        "sobely = cv2.Sobel(img,cv2.CV_64F,0,1,ksize=21)\n",
        "\n",
        "plt.figure(figsize=(15, 10))\n",
        "plt.subplot(2,2,1)\n",
        "plt.imshow(img, cmap = 'gray')\n",
        "plt.title('Original')\n",
        "plt.subplot(2,2,2),plt.imshow(laplacian,cmap = 'gray')\n",
        "plt.title('Laplacian')\n",
        "plt.subplot(2,2,3)\n",
        "plt.imshow(sobelx,cmap = 'gray')\n",
        "plt.title('Sobel X')\n",
        "plt.subplot(2,2,4)\n",
        "plt.imshow(sobely,cmap = 'gray')\n",
        "plt.title('Sobel Y')\n",
        "\n",
        "plt.show()"
      ]
    },
    {
      "cell_type": "markdown",
      "source": [
        "###Thresholding of Laplacian and Sobel "
      ],
      "metadata": {
        "id": "Ju-bcZQ02NUp"
      }
    },
    {
      "cell_type": "code",
      "source": [
        "from google.colab.patches import cv2_imshow\n",
        "ret, thresh1= cv2.threshold(laplacian, 120, 255, cv2.THRESH_TRUNC)\n",
        "ret, thresh2= cv2.threshold(sobelx, 120, 255, cv2.THRESH_TRUNC)\n",
        "ret, thresh3= cv2.threshold(sobely, 120, 255, cv2.THRESH_TRUNC)\n",
        "cv2_imshow(thresh1)\n",
        "cv2_imshow(thresh2)\n",
        "cv2_imshow(thresh3)\n",
        "# De-allocate any associated memory usage\n",
        "if cv2.waitKey(0) & 0xff == 27:\n",
        "\tcv2.destroyAllWindows()"
      ],
      "metadata": {
        "id": "dMoKD3Sd1zkB"
      },
      "execution_count": null,
      "outputs": []
    },
    {
      "cell_type": "markdown",
      "source": [
        "###Canny Edge Detector"
      ],
      "metadata": {
        "id": "rd5-oJpS2RKI"
      }
    },
    {
      "cell_type": "code",
      "source": [
        "image = np.uint8(sharpened_h)\n",
        "edges = cv2.Canny(image,300,400)\n",
        "plt.figure(figsize=(15,5))\n",
        "plt.subplot(121),plt.imshow(img,cmap = 'gray')\n",
        "plt.title('Original Image'), plt.xticks([]), plt.yticks([])\n",
        "plt.subplot(122),plt.imshow(edges,cmap = 'gray')\n",
        "plt.title('Edge Image'), plt.xticks([]), plt.yticks([])\n",
        "plt.show()"
      ],
      "metadata": {
        "id": "L4Lo3ITd12SJ"
      },
      "execution_count": null,
      "outputs": []
    },
    {
      "cell_type": "markdown",
      "source": [
        "###Unsharp Masking and High Boost Filtering"
      ],
      "metadata": {
        "id": "j-NhmP7Z2TwT"
      }
    },
    {
      "cell_type": "code",
      "source": [
        "from skimage import data\n",
        "from skimage import img_as_ubyte, img_as_int\n",
        "from scipy import ndimage\n",
        "\n",
        "low_pass = (1/9)*np.array([[1, 1, 1], [1, 1, 1], [1, 1, 1]], dtype='float64') #LP mask\n",
        "blurred = ndimage.convolve(img, low_pass, mode='constant', cval=0.0)\n",
        "unsharp_mask = img_as_ubyte(img - blurred)\n",
        "unsharp = img_as_ubyte(img + 1*unsharp_mask)\n",
        "highboost=img_as_ubyte(img + 3*unsharp_mask)\n",
        "\n",
        "plt.figure(figsize=(15,5))\n",
        "plt.subplot(1, 4, 1)\n",
        "plt.title('Original')\n",
        "plt.imshow(img,cmap=\"gray\")\n",
        "plt.subplot(1, 4, 2)\n",
        "plt.title('Unsharp mask')\n",
        "plt.imshow(unsharp_mask,cmap=\"gray\")\n",
        "plt.subplot(1, 4, 3)\n",
        "plt.title('Unsharp masked image')\n",
        "plt.imshow(unsharp,cmap=\"gray\")\n",
        "plt.subplot(1, 4, 4)\n",
        "plt.title('HighBoost Filtered image')\n",
        "plt.imshow(highboost,cmap=\"gray\")"
      ],
      "metadata": {
        "id": "g9TM4qAa15JL"
      },
      "execution_count": null,
      "outputs": []
    },
    {
      "cell_type": "markdown",
      "source": [
        "###Frequency Domain Filtering VS Spatial Domain Filtering"
      ],
      "metadata": {
        "id": "-6bZYHOq2WtW"
      }
    },
    {
      "cell_type": "code",
      "source": [
        "#comparison of Frequency domain filtering vs Spacial Domain Filtering\n",
        "from google.colab.patches import cv2_imshow\n",
        "ret, thresh= cv2.threshold(laplacian, 120, 255, cv2.THRESH_TRUNC)\n",
        "print(\"Frequency threshold\")\n",
        "cv2_imshow(thresh)\n",
        "#spatial image\n",
        "med_image = median_filter(img,5)\n",
        "hist,bins = np.histogram(med_image.flatten(),256,[0,256])\n",
        "cdf = hist.cumsum()\n",
        "cdf_normalized = cdf * hist.max()/ cdf.max()\n",
        "cdf_m = np.ma.masked_equal(cdf,0)\n",
        "cdf_m = (cdf_m - cdf_m.min())*225/(cdf_m.max()-cdf_m.min())\n",
        "cdf = np.ma.filled(cdf_m,0).astype('uint8')\n",
        "img2 = cdf[med_image]\n",
        "lap = cv2.Laplacian(med_image,cv2.CV_64F)\n",
        "sharp = img2 - 0.9*lap\n",
        "ret, thresh1 = cv2.threshold(sharp, 180, 255, cv2.THRESH_BINARY)\n",
        "print(\"Spatial threshold\")\n",
        "cv2_imshow(thresh1)"
      ],
      "metadata": {
        "id": "oJwAvqGa18Dc"
      },
      "execution_count": null,
      "outputs": []
    }
  ]
}