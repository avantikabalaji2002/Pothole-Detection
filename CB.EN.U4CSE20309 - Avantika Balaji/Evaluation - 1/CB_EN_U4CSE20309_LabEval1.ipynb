{
  "nbformat": 4,
  "nbformat_minor": 0,
  "metadata": {
    "colab": {
      "provenance": []
    },
    "kernelspec": {
      "name": "python3",
      "display_name": "Python 3"
    },
    "language_info": {
      "name": "python"
    }
  },
  "cells": [
    {
      "cell_type": "code",
      "source": [
        "import cv2\n",
        "import numpy as np\n",
        "from google.colab.patches import cv2_imshow\n",
        "from PIL import Image, ImageFilter\n",
        "\n",
        "from google.colab import drive\n",
        "drive.mount('/content/drive')"
      ],
      "metadata": {
        "id": "YwiMks5w0tXd"
      },
      "execution_count": null,
      "outputs": []
    },
    {
      "cell_type": "code",
      "execution_count": null,
      "metadata": {
        "id": "Kay4_kGF0pqk"
      },
      "outputs": [],
      "source": [
        "import cv2\n",
        "import numpy as np\n",
        "from google.colab.patches import cv2_imshow\n",
        "import glob\n",
        "import os\n",
        "from matplotlib import pyplot as plt\n",
        "from os import listdir\n",
        "from scipy.ndimage.filters import median_filter\n",
        "img_dir = \"/content/drive/MyDrive/Pothole_dataset\" # Enter Directory of all images  \n",
        "data_path = os.path.join(img_dir,'*jpg') \n",
        "files = glob.glob(data_path)\n",
        "for f1 in files: \n",
        "    img = cv2.imread(f1)\n",
        "    # resize image\n",
        "    img = cv2.resize(img, (300, 300), interpolation = cv2.INTER_LINEAR)\n",
        "    print(\"Original image\")\n",
        "    cv2_imshow(img)\n",
        "    #gray scaling\n",
        "    gray_image = cv2.cvtColor(img, cv2.COLOR_BGR2GRAY)\n",
        "    print(\"Gray-scale image\")\n",
        "    cv2_imshow(gray_image)\n"
      ]
    }
  ]
}