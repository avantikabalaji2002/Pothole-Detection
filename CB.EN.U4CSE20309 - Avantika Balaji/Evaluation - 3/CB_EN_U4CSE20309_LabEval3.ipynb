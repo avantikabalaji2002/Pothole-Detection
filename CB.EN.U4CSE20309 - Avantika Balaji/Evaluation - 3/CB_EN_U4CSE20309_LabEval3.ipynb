{
  "nbformat": 4,
  "nbformat_minor": 0,
  "metadata": {
    "colab": {
      "provenance": []
    },
    "kernelspec": {
      "name": "python3",
      "display_name": "Python 3"
    },
    "language_info": {
      "name": "python"
    }
  },
  "cells": [
    {
      "cell_type": "markdown",
      "source": [
        "EDGE DETECTORS\n",
        "1. LAPLACIAN\n",
        "2. CANNY\n",
        "3. SOBEL\n",
        "4. PERWITT\n",
        "5. ROBERT\n",
        "6. LAPLACIAN OF GAUSSIAN (MARR-HILDRETH)"
      ],
      "metadata": {
        "id": "33_qLvAo1cgs"
      }
    },
    {
      "cell_type": "markdown",
      "source": [
        "1. Robert Edge Detector"
      ],
      "metadata": {
        "id": "Nd_Eifyh3Cvc"
      }
    },
    {
      "cell_type": "code",
      "execution_count": null,
      "metadata": {
        "id": "0Z3fIa2w1bM2"
      },
      "outputs": [],
      "source": [
        "#ROBERT EDGE DETECTION\n",
        "from scipy import ndimage\n",
        "img = cv2.imread(\"6.jpg\",0).astype('float64')\n",
        "img/=255.0\n",
        "roberts_cross_v = np.array( [[1, 0 ],\n",
        "\t\t\t\t\t\t\t[0,-1 ]] )\n",
        "\n",
        "roberts_cross_h = np.array( [[ 0, 1 ],\n",
        "\t\t\t\t\t\t\t[ -1, 0 ]] )\n",
        "\n",
        "vertical = ndimage.convolve( img, roberts_cross_v )\n",
        "horizontal = ndimage.convolve( img, roberts_cross_h )\n",
        "\n",
        "edged_img = np.sqrt( np.square(horizontal) + np.square(vertical))\n",
        "edged_img*=255\n",
        "cv2_imshow(edged_img)"
      ]
    },
    {
      "cell_type": "markdown",
      "source": [
        "2. Canny\n",
        "\n",
        "3. Sobel\n",
        "\n",
        "4. Prewitt"
      ],
      "metadata": {
        "id": "soe29t9Y3MXy"
      }
    },
    {
      "cell_type": "code",
      "source": [
        "img = cv2.imread('6.jpg')\n",
        "img = cv2.cvtColor(img, cv2.COLOR_BGR2GRAY)\n",
        "img_gaussian = cv2.GaussianBlur(img,(3,3),0)\n",
        "\n",
        "#canny\n",
        "img_canny = cv2.Canny(img,450,450)\n",
        "\n",
        "\n",
        "#sobel\n",
        "img_sobelx = cv2.Sobel(img_gaussian,cv2.CV_8U,1,0,ksize=5)\n",
        "img_sobely = cv2.Sobel(img_gaussian,cv2.CV_8U,0,1,ksize=5)\n",
        "img_sobel = img_sobelx + img_sobely\n",
        "\n",
        "\n",
        "#prewitt\n",
        "kernelx = np.array([[1,1,1],[0,0,0],[-1,-1,-1]])\n",
        "kernely = np.array([[-1,0,1],[-1,0,1],[-1,0,1]])\n",
        "img_prewittx = cv2.filter2D(img_gaussian, -1, kernelx)\n",
        "img_prewitty = cv2.filter2D(img_gaussian, -1, kernely)\n",
        "\n",
        "\n",
        "cv2_imshow( img)\n",
        "cv2_imshow(img_canny)\n",
        "cv2_imshow(img_sobelx)\n",
        "cv2_imshow( img_sobely)\n",
        "cv2_imshow( img_sobel)\n",
        "cv2_imshow(img_prewittx)\n",
        "cv2_imshow( img_prewitty)\n",
        "cv2_imshow(img_prewittx + img_prewitty)\n",
        "\n",
        "\n",
        "cv2.waitKey(0)\n",
        "cv2.destroyAllWindows()"
      ],
      "metadata": {
        "id": "-bKL9nKW1vcr"
      },
      "execution_count": null,
      "outputs": []
    },
    {
      "cell_type": "markdown",
      "source": [
        "5. Marr-Hildreth - Laplacian of Gaussian"
      ],
      "metadata": {
        "id": "MkbAwyF43evT"
      }
    },
    {
      "cell_type": "code",
      "source": [
        "blur = cv2.GaussianBlur(img, (7, 7), 0)\n",
        "\n",
        "laplacian = cv2.Laplacian(blur, cv2.CV_64F)\n",
        "\n",
        "# Apply a threshold to the Laplacian image to identify the edges\n",
        "_, thresh = cv2.threshold(laplacian, 5, 255, cv2.THRESH_BINARY)\n",
        "\n",
        "# Display the resulting edge-detected image\n",
        "plt.imshow(thresh, cmap='gray')\n",
        "plt.axis('off')\n",
        "plt.title(f\"LOG\")"
      ],
      "metadata": {
        "id": "KKXoUE_D1ywo"
      },
      "execution_count": null,
      "outputs": []
    },
    {
      "cell_type": "markdown",
      "source": [
        "PSNR ratios of the Edge Detectors"
      ],
      "metadata": {
        "id": "phKc8HmO3ls5"
      }
    },
    {
      "cell_type": "code",
      "source": [
        "from math import log10, sqrt\n",
        "\n",
        "def PSNR(original, compressed):\n",
        "\tmse = np.mean((original - compressed) ** 2)\n",
        "\tif(mse == 0): # MSE is zero means no noise is present in the signal .\n",
        "\t\t\t\t# Therefore PSNR have no importance.\n",
        "\t\treturn 100\n",
        "\tmax_pixel = 255.0\n",
        "\tpsnr = 20 * log10(max_pixel / sqrt(mse))\n",
        "\treturn psnr\n",
        "\n",
        "print(f\"PSNR value of Canny {PSNR(img,img_canny)} dB\")\n",
        "print(f\"PSNR value of Robert {PSNR(img,edged_img)} dB\")\n",
        "print(f\"PSNR value of Sobel {PSNR(img,img_sobel)} dB\")\n",
        "print(f\"PSNR value of Prewitt {PSNR(img,img_prewittx + img_prewitty)} dB\")\n",
        "print(f\"PSNR value of LOG {PSNR(img,thresh)} dB\")"
      ],
      "metadata": {
        "id": "80to48Y42Q_R"
      },
      "execution_count": null,
      "outputs": []
    },
    {
      "cell_type": "markdown",
      "source": [
        "SSIM value of Edge Detectors"
      ],
      "metadata": {
        "id": "5i0XgolW3p5G"
      }
    },
    {
      "cell_type": "code",
      "source": [
        "print(f\"SSIM value of Canny {calculate_ssim(img,img_canny)} \")\n",
        "print(f\"SSIM value of Robert {calculate_ssim(img,edged_img)} \")\n",
        "print(f\"SSIM value of Sobel {calculate_ssim(img,img_sobel)} \")\n",
        "print(f\"SSIM value of Prewitt {calculate_ssim(img,img_prewittx + img_prewitty)} \")\n",
        "print(f\"SSIM value of LOG {calculate_ssim(img,thresh)} \")"
      ],
      "metadata": {
        "id": "Opz1DrG_2Tyc"
      },
      "execution_count": null,
      "outputs": []
    }
  ]
}